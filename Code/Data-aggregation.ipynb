{
 "cells": [
  {
   "cell_type": "code",
   "execution_count": 7,
   "id": "7ff95ed8",
   "metadata": {},
   "outputs": [],
   "source": [
    "import pandas as pd\n",
    "from pathlib import Path\n",
    "import matplotlib.pyplot as plt\n",
    "import numpy as np\n",
    "import seaborn as sns\n",
    "\n",
    "Path.cwd()\n",
    "\n",
    "def myFunction(v):\n",
    "    file = '/Users/huynhphuong/Desktop/CAMCOS-after-semester/Data/{}/00.csv.gz'.format(v)\n",
    "    table = pd.read_csv(file,compression='gzip',sep=\"\\t\")\n",
    "\n",
    "    for i in range(1,10):\n",
    "        x = '/Users/huynhphuong/Desktop/CAMCOS-after-semester/Data/{1}/0{0}.csv.gz'.format(i,v)\n",
    "        table_1 = pd.read_csv(x, compression='gzip', sep=\"\\t\",low_memory = False)\n",
    "        table = pd.concat([table, table_1],ignore_index = True)\n",
    "\n",
    "    for i in range(10,24):\n",
    "        x = '/Users/huynhphuong/Desktop/CAMCOS-after-semester/Data/{1}/{0}.csv.gz'.format(i,v)\n",
    "        table_1 = pd.read_csv(x,compression='gzip',sep=\"\\t\",low_memory=False)\n",
    "        table = pd.concat([table, table_1],ignore_index = True)\n",
    "    \n",
    "    table.to_csv('Data/{0}.csv.gz'.format(v), compression='gzip', sep='\\t', index=False)\n",
    "\n"
   ]
  },
  {
   "cell_type": "markdown",
   "id": "182fa000",
   "metadata": {},
   "source": [
    "#### Date already load: \n",
    "    Sep-06, Sep-07\n",
    "#### Dates need to be loaded: \n",
    "    Sep-05, Sep-04, Sep-03, Sep-02"
   ]
  },
  {
   "cell_type": "code",
   "execution_count": 8,
   "id": "688e8e3f",
   "metadata": {},
   "outputs": [],
   "source": [
    "# myFunction('Sep-06')"
   ]
  }
 ],
 "metadata": {
  "kernelspec": {
   "display_name": "Python 3 (ipykernel)",
   "language": "python",
   "name": "python3"
  },
  "language_info": {
   "codemirror_mode": {
    "name": "ipython",
    "version": 3
   },
   "file_extension": ".py",
   "mimetype": "text/x-python",
   "name": "python",
   "nbconvert_exporter": "python",
   "pygments_lexer": "ipython3",
   "version": "3.11.4"
  }
 },
 "nbformat": 4,
 "nbformat_minor": 5
}
