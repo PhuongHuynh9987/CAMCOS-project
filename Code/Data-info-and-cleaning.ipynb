{
 "cells": [
  {
   "cell_type": "code",
   "execution_count": 1,
   "id": "139b0ad6",
   "metadata": {},
   "outputs": [
    {
     "data": {
      "text/plain": [
       "PosixPath('/Users/huynhphuong/Desktop/CAMCOS-after-semester')"
      ]
     },
     "execution_count": 1,
     "metadata": {},
     "output_type": "execute_result"
    }
   ],
   "source": [
    "import pandas as pd\n",
    "from pathlib import Path\n",
    "import matplotlib.pyplot as plt\n",
    "import numpy as np\n",
    "import seaborn as sns\n",
    "import pickle \n",
    "\n",
    "Path.cwd()"
   ]
  },
  {
   "cell_type": "markdown",
   "id": "86d1adba",
   "metadata": {},
   "source": [
    "## Analyze data from September 6 and 7"
   ]
  },
  {
   "cell_type": "code",
   "execution_count": null,
   "id": "16681e28",
   "metadata": {},
   "outputs": [],
   "source": [
    "sep6 = '/Users/huynhphuong/Desktop/CAMCOS-after-semester/Data/Sep-06.csv'\n",
    "sep6 = pd.read_csv(sep6, sep='\\t', dtype ={\"curblocknumber\":int,'gas':float, \n",
    "                                           'gasprice':float,'type':float,'maxfeepergas':float,\n",
    "                                           'basefeepergas':float,'gasused':float},low_memory=False)\n",
    "\n",
    "sep7 = '/Users/huynhphuong/Desktop/CAMCOS-after-semester/Data/Sep-07.csv'\n",
    "sep7 = pd.read_csv(sep7, sep='\\t', dtype ={\"curblocknumber\":int,'gas':float, \n",
    "                                           'gasprice':float,'type':float,'maxfeepergas':float,\n",
    "                                           'basefeepergas':float,'gasused':float},low_memory=False)\n",
    "df = pd.concat([sep6, sep7],ignore_index = True)\n",
    "df"
   ]
  },
  {
   "cell_type": "code",
   "execution_count": null,
   "id": "c56ac0a5",
   "metadata": {},
   "outputs": [],
   "source": [
    "table = df.copy()\n",
    "df.columns"
   ]
  },
  {
   "cell_type": "markdown",
   "id": "cacd057b",
   "metadata": {},
   "source": [
    "# 1. Column information \n",
    "also found at https://docs.blocknative.com/mempool-data-program#data-schema\n",
    "\n",
    "#### 1. Transaction status: \n",
    "- rejected - denied entry into the mempool \n",
    "- evicted -  exitting the mempool \n",
    "- confirmed - finalized on chain \n",
    "- pending - pending in the mempool\n",
    "- speedup - replacing existing mempool tx\n",
    "- cancel - replacing existing mempool tx\n",
    "- failed - finalized on chain \n",
    "\n",
    "#### 2. For each status, there are corresponding columns\n",
    "- rejected --> rejectionreason \n",
    "- evicted --> dropreason \n",
    "- confirmed --> gasused \n",
    "- pending --> gasused = -1 \n",
    "- speedup --> replace \n",
    "- cancel --> replace \n",
    "- failed --> failurereason \n",
    "\n",
    "#### 3. Dypes\n",
    "    - detecttime ( datetime) - timestamp that txn was detected in the mempool\n",
    "    - hash (string) -  unique indentifier hash for a txn\n",
    "    - status (string) - status of a txn\n",
    "    - region (string) - region of the node that detected the txn (us-east-1, eu-central-1, ap-southeast-1)\n",
    "    - reorg (string) - refer to block hash of the reorg, if there was one\n",
    "    - replace (string) - if a txn was replaced (speedup/cancel), show the txn hash of the replacement\n",
    "    - curblocknumber (int)- the block number the event was detected in \n",
    "    - failurereason - reason of a failed txn\n",
    "    - blockspending (int) - number of blocks that txn a txn was waiting to get on chain after finalized (confirmed/failed)\n",
    "    - time spending (big int) - time in milisecinds that txn was waiting to get on chain\n",
    "    - nonce (int) - unique number count the number of txns sent from a given address\n",
    "    - gas (int) - a txn fee to incentivize miners (denom is gwei or 1e9ETH)(also the gas limit for a txn set by the users)\n",
    "    - gasprice (int) - price offered to miner to purchase gas (denom is gwei or 1e9ETH) (only for txns type 0 and 1)\n",
    "    - value(int) - amount of ETH (denom is gwei) transferred\n",
    "    - toadress (string)\n",
    "    - fromadress (string)\n",
    "    - input (string) - additional data that can be attached to a transaction. This field can be used to tell a smart contract to execute a function\n",
    "    - network (string) - ETH network used\n",
    "    - type (int) - type 0,1,2\n",
    "    - maxpriorityfeepergas (int) - max possible tip (actual tip = maxfee - basefee) (denom is gwei)\n",
    "    - maxfeepergas (int) - max possible gas a sender is willing to pay including basefee and tip (why must be lower than the maxpriorityfeepergas?)\n",
    "    - basefeepergas (int) - burned fee (denom is gwei)\n",
    "    - dropreason (string)\n",
    "    - rejectionreason (string)\n",
    "    - stuck - no info, dropped\n",
    "    - gasused (int) - actuan gas consumed (denom is gwei)\n",
    "    - detect_date (string) \n",
    "\n",
    "#### 4. Current dtypes:\n",
    "    detecttime               object \n",
    "    hash                     object\n",
    "    status                   object\n",
    "    region                   object\n",
    "    reorg                    string\n",
    "    replace                  object\n",
    "    curblocknumber            int64\n",
    "    failurereason            object\n",
    "    blockspending            object\n",
    "    timepending              object\n",
    "    nonce                    object\n",
    "    gas                     float64\n",
    "    gasprice                float64\n",
    "    value                    object\n",
    "    toaddress                object\n",
    "    fromaddress              object\n",
    "    input                    object\n",
    "    network                  object\n",
    "    type                    float64\n",
    "    maxpriorityfeepergas     object\n",
    "    maxfeepergas            float64\n",
    "    basefeepergas           float64\n",
    "    dropreason               object\n",
    "    rejectionreason          object\n",
    "    stuck                    object\n",
    "    gasused                 float64\n",
    "    detect_date              object\n",
    "    \n",
    "#### 5. Dtypes needed to be fixed (maybe data entry error)\n",
    "    - region: drop rows that are not the three region \n",
    "    - blockspending\n",
    "    - timepending\n",
    "    - nonce\n",
    "    - maxpriorityfeepergas\n",
    "    \n",
    "#### 6. Drop columns\n",
    "    - stuck: no information\n",
    "    - network: only one value 'main, \n",
    "    - gasprice: if analyzing post EIP txns (type 2 txns)\n",
    "\n",
    "#### 7. Some Observations\n",
    "    - There are some duplicate hash for the same txns"
   ]
  },
  {
   "cell_type": "markdown",
   "id": "b82667b1",
   "metadata": {},
   "source": [
    "# 2. Processing Data\n",
    "### 2.1 drop columns and data entry error rows"
   ]
  },
  {
   "cell_type": "code",
   "execution_count": null,
   "id": "df3dd861",
   "metadata": {},
   "outputs": [],
   "source": [
    "table = table.drop(columns = [\"stuck\",\"network\",'gasprice'])\n",
    "table = table[table.region != '7']\n",
    "# table = table.reset_index(drop=True)\n",
    "table.head(5)"
   ]
  },
  {
   "cell_type": "markdown",
   "id": "5568d342",
   "metadata": {},
   "source": [
    "### 2.2 Fix dtypes"
   ]
  },
  {
   "cell_type": "code",
   "execution_count": null,
   "id": "cc3701ba",
   "metadata": {},
   "outputs": [],
   "source": [
    "table.maxpriorityfeepergas = table.maxpriorityfeepergas.astype(float)\n",
    "table.blockspending = table.blockspending.astype(float)\n",
    "table.timepending = table.timepending.astype(float)\n",
    "table.nonce = table.nonce.astype(float)\n",
    "table.dtypes"
   ]
  },
  {
   "cell_type": "markdown",
   "id": "3a35fd79",
   "metadata": {},
   "source": [
    "# 3. Filtering data\n",
    "### 3.1 \n",
    "- Only US-east-1 region\n",
    "- Only confirmed/failed txns\n",
    "- Only type 2 txns\n",
    "- Remove duplicate (some confirmed txns have dumplicated rows)"
   ]
  },
  {
   "cell_type": "code",
   "execution_count": null,
   "id": "285a2e5e",
   "metadata": {},
   "outputs": [],
   "source": [
    "table = table[(table[\"region\"] == \"us-east-1\") & ((table[\"status\"] == \"confirmed\" |table[\"status\"] == \"failed\")) & (table[\"type\"] == 2)]\n",
    "print(\"Number of duplicate: \", sum(table.hash.duplicated())) # check for reason of duplication\n",
    "table = table.drop_duplicates(subset=['hash'], keep='first')\n",
    "table = table.reset_index(drop = True)\n",
    "table.head(10)"
   ]
  },
  {
   "cell_type": "markdown",
   "id": "48874bbb",
   "metadata": {},
   "source": [
    "### 3.2 Exporting the csv file"
   ]
  },
  {
   "cell_type": "code",
   "execution_count": null,
   "id": "4522d340",
   "metadata": {},
   "outputs": [],
   "source": [
    "# table.to_csv(\"confirmed-txn.csv\")"
   ]
  },
  {
   "cell_type": "code",
   "execution_count": null,
   "id": "f59d576c",
   "metadata": {},
   "outputs": [],
   "source": []
  },
  {
   "cell_type": "code",
   "execution_count": null,
   "id": "2ffc1639",
   "metadata": {},
   "outputs": [],
   "source": []
  },
  {
   "cell_type": "code",
   "execution_count": null,
   "id": "b8ebffd4",
   "metadata": {},
   "outputs": [],
   "source": []
  },
  {
   "cell_type": "code",
   "execution_count": null,
   "id": "480692a7",
   "metadata": {},
   "outputs": [],
   "source": []
  },
  {
   "cell_type": "markdown",
   "id": "2c7628ec",
   "metadata": {},
   "source": [
    "### Calculating mean gas, basefee, and mean max priority fee for each block"
   ]
  },
  {
   "cell_type": "code",
   "execution_count": null,
   "id": "e7c3b99f",
   "metadata": {
    "scrolled": true
   },
   "outputs": [],
   "source": [
    "# # getting the mean gas of each txns in each block\n",
    "# f = table.groupby([\"curblocknumber\"]).gasused.mean()\n",
    "# f = f.reset_index()\n",
    "\n",
    "# # getting the basefeepergas for each block\n",
    "# g = table.groupby([\"curblocknumber\"]).basefeepergas.mean()\n",
    "# g = g.reset_index()\n",
    "\n",
    "# # getting the mean of max prioprity fee for each block\n",
    "# z = table.groupby([\"curblocknumber\"]).maxpriorityfeepergas.mean()\n",
    "# z = z.reset_index()\n",
    "\n",
    "# # getting the block size\n",
    "# r = table.groupby([\"curblocknumber\"]).gasused.sum()\n",
    "# r = r.reset_index()\n",
    "\n",
    "# z[\"mean_gasused\"] = f[\"gasused\"]\n",
    "# z[\"basefeepergas\"] = g[\"basefeepergas\"]\n",
    "# z[\"blockbasefee\"] = g[\"basefeepergas\"]*(10**(-9))  #converting to gwei\n",
    "# z[\"blocksize\"] = r[\"gasused\"]\n",
    "# z[\"block_reward\"] = z[\"maxpriorityfeepergas\"]*z[\"blocksize\"]*(10**(-18))\n",
    "# z.head(10)"
   ]
  },
  {
   "cell_type": "code",
   "execution_count": null,
   "id": "2a9fccab",
   "metadata": {},
   "outputs": [],
   "source": [
    "# KEEP this cell, for counting duplicated hash values\n",
    "\n",
    "#MyList = s[s[\"curblocknumber\"]==18080834]\n",
    "# MyList = MyList[\"hash\"].tolist()\n",
    "\n",
    "# my_dict = {i:MyList.count(i) for i in MyList}\n",
    "# my_dict"
   ]
  },
  {
   "cell_type": "code",
   "execution_count": null,
   "id": "9be0c17f",
   "metadata": {},
   "outputs": [],
   "source": [
    "## KEEP this cell, for blocks that failed (null value)\n",
    "# for i in list(r[\"curblocknumber\"]):\n",
    "#     if i not in list(z[\"curblocknumber\"].unique()):\n",
    "#         print(i)\n",
    "# r"
   ]
  },
  {
   "cell_type": "code",
   "execution_count": null,
   "id": "a3967f96",
   "metadata": {},
   "outputs": [],
   "source": [
    "# fig, ax = plt.subplots(4, figsize=(10,10))\n",
    "\n",
    "# # using padding to create gap between plots\n",
    "# fig.tight_layout(pad=4.0)   \n",
    "# # sns.set_style('darkgrid')\n",
    "\n",
    "# ax[0].plot(z[\"block_reward\"])\n",
    "# ax[0].set_title(\"block-reward (ETH)\")\n",
    "# # ax[0].plot(z['block_reward'].rolling(window=20, center=True).mean())\n",
    "# ax[1].plot(z[\"mean_gasused\"],color = \"orange\");\n",
    "# ax[1].set_title(\"mean txns gas for each block\");\n",
    "# # ax[1].plot(z['mean_gasused'].rolling(window=100, center=True).mean())\n",
    "# ax[2].plot(z[\"blockbasefee\"],color = \"green\");\n",
    "# ax[2].set_title(\"basefeepergas\");\n",
    "# ax[2].plot(z['blockbasefee'].rolling(window=100, center=True).mean(),color = 'red');\n",
    "# ax[3].plot(z[\"blocksize\"]);\n",
    "# # ax[3].stackplot(range(0,len(z),1),z[\"blocksize\"], color = \"red\");\n",
    "# ax[3].set_title(\"block size\");\n",
    "# # ax[3].plot(z['blocksize'].rolling(window=10, center=True).mean());\n"
   ]
  },
  {
   "cell_type": "markdown",
   "id": "422f1836",
   "metadata": {},
   "source": [
    "There are two block that has gas over 30M"
   ]
  },
  {
   "cell_type": "code",
   "execution_count": null,
   "id": "0d3bc5cb",
   "metadata": {},
   "outputs": [],
   "source": [
    "# # getting the base fee of each block\n",
    "# each_hour = table.groupby([\"hour\"]).basefeepergas.sum()\n",
    "# each_hour = each_hour.reset_index()\n",
    "# each_hour[\"blockbasefee\"] = each_hour[\"basefeepergas\"]*(10**(-9))\n",
    "\n",
    "# # table[\"maxpriorityfeepergas\"] = table[\"maxpriorityfeepergas\"].astype(int)\n",
    "\n",
    "# # getting the mean of max prioprity fee for each block\n",
    "# f = table.groupby([\"hour\"]).maxpriorityfeepergas.mean()\n",
    "# f = f.reset_index()\n",
    "\n",
    "# each_hour[\"maxpriorityfeepergas\"] = f[\"maxpriorityfeepergas\"]\n",
    "\n",
    "# each_hour.head(3)"
   ]
  },
  {
   "cell_type": "code",
   "execution_count": null,
   "id": "74000311",
   "metadata": {},
   "outputs": [],
   "source": [
    "# fig, ax = plt.subplots(2, figsize=(10, 4))\n",
    "\n",
    "# # using padding to create gap between plots\n",
    "# fig.tight_layout(pad=4.0)   \n",
    " \n",
    "# # sns.set_style('darkgrid')\n",
    "# # ax[0].plot(each_hour[\"reward\"])\n",
    "# # ax[0].set_title(\"block reward (ETH)\")\n",
    "# ax[1].plot(each_hour[\"blockbasefee\"])\n",
    "# ax[1].set_title(\"base fee (gwei)\")\n",
    "# # ax[1].plot(each_hour['blockbasefee'].rolling(window=100, center=True).mean())"
   ]
  }
 ],
 "metadata": {
  "kernelspec": {
   "display_name": "Python 3 (ipykernel)",
   "language": "python",
   "name": "python3"
  },
  "language_info": {
   "codemirror_mode": {
    "name": "ipython",
    "version": 3
   },
   "file_extension": ".py",
   "mimetype": "text/x-python",
   "name": "python",
   "nbconvert_exporter": "python",
   "pygments_lexer": "ipython3",
   "version": "3.11.4"
  }
 },
 "nbformat": 4,
 "nbformat_minor": 5
}
